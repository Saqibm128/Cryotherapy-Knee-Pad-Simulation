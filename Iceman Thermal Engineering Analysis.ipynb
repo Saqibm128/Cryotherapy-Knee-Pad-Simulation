{
 "cells": [
  {
   "cell_type": "markdown",
   "metadata": {},
   "source": [
    "## Heat Transfer from Knee to Ice Water\n",
    "\n",
    "### Assumptions and declarations\n",
    "\n",
    "* $t$ is the time variable.\n",
    "* $T_{w0}$ is the initial temperature of the ice water.\n",
    "* $T_{sleeve}$ is the temperature of the plastic sleeve and starts at $25 C$\n",
    "* $T_w$ as the temperature of water flowing throughout the device.\n",
    "* The device sleeve is a low density polyethylene with thermal coefficient of $0.33 j/(m * K * s)$ at $25 C$\n",
    "* The skin has a thermal conductivity of $0.31 j/(m * K *s)$\n",
    "* The water has a thermal conductivity of $0.608 j / (m * k * s)$\n",
    "* We assume the water has initial temperature of $0 C$\n",
    "* We assume that the fresh blood perfusing the tissue underneath the skin is constant at temperature $37 C$ and the skin starts at same temperature.\n",
    "* We assume that the surface area of the capillary bed is the same as the surface area of the knee as a whole (i.e. that fresh blood is constantly being in contact with the tissue.\n",
    "* We assume that heat transfer from the knee skin to the environment is negligible.\n",
    "* The sleeve of the device is of size $0.079 m^2$ ($10.85\" x 11.34\"$)\n"
   ]
  },
  {
   "cell_type": "markdown",
   "metadata": {},
   "source": [
    "## Known Values\n",
    "| Name      | Number |\n",
    "| ----------- | ----------- |\n",
    "| Water Coefficient of Thermal Conductivity |  $0.608$  j/(mKs) |\n"
   ]
  },
  {
   "cell_type": "markdown",
   "metadata": {},
   "source": [
    "## Key values to figure out\n",
    "\n",
    "* We don't need to find out how much water is in the sleeve because we assume it is constant temp throughout.\n",
    "* We don't know the mass of the plastic interface. Note, this needs to be divided in half, since this is double sided plastic sleeve\n",
    "* We need to figure out how thick the sleeve plastic is between the skin and the sleeve. I'm using the filler variable of .5 mm.\n",
    "* I am going to use a generic figure for skin depth (2 mm), but I'm not sure that applies to knee skin (https://www.cyh.com/HealthTopics/library/skin.pdf)"
   ]
  },
  {
   "cell_type": "markdown",
   "metadata": {},
   "source": []
  },
  {
   "cell_type": "markdown",
   "metadata": {},
   "source": [
    "## Derivation of the Heat Transfer Equation from Water Through Plastic Sleeve\n",
    "\n",
    "### Rate of thermal heat transfer:\n",
    "\n",
    "$\\\\\\dot Q = k * A * \\Delta T / d$\n",
    "\n",
    "$\\\\\\dot Q = k * 0.079 m^2 * (T_w - T_{sleeve})$\n",
    "\n",
    "### Heat Capacity of Plastic Sleeve:\n",
    "$\\\\ \\Delta Q = m c \\Delta T$\n",
    "\n",
    "$\\\\ \\Delta Q = m 0.44 (T_{sleeve}(t_f) - T_{sleeve}(t_i))$\n",
    "\n",
    "### Change in temp of plastic sleeve as function of time, assuming that $\\dot Q$ is constant at instance\n",
    "Assumption holds for small time periods when the T_{sleeve} has only changed slightly over time\n",
    "\n",
    "$\\\\\\dot Q \\approx  \\Delta Q / 1 sec $\n",
    "\n",
    "\n",
    "$k * 0.079 * (T_w (t) - T_{sleeve}(t_i)) = m 0.44 (T_{sleeve}(t_f) - T_{sleeve}(t_i))$\n",
    "\n",
    "Let's start with the maximum change in Q over time, which would be when the water is at temperature $0 C$ and the sleeve is at temperature $25 C$\n",
    "$k * 0.079 * (0 - 25) = m 0.44 (T_{sleeve}(t_f) - y))$\n"
   ]
  },
  {
   "cell_type": "code",
   "execution_count": 5,
   "metadata": {},
   "outputs": [],
   "source": [
    "# set up dependencies\n",
    "import matplotlib.pyplot as plt"
   ]
  },
  {
   "cell_type": "code",
   "execution_count": 8,
   "metadata": {},
   "outputs": [],
   "source": [
    "#define constants (we can change later if we were wrong)\n",
    "K_ldpe = 0.33\n",
    "A_sleeve = 0.079\n",
    "T_wi = 273 #Kelvin\n",
    "T_sleevei = 298 #Kelvin\n",
    "c_ldpe = 2100 #http://www.goodfellow.com/E/Polyethylene-Low-Density.html\n",
    "d_skin = 0.002 #meters\n",
    "d_sleeve = 0.0005 #meters\n",
    "m_sleeve = 0.010 # kg"
   ]
  },
  {
   "cell_type": "code",
   "execution_count": 9,
   "metadata": {},
   "outputs": [],
   "source": [
    "# Create functions which implements the thermal heat transfer equations and heat capacity equations\n",
    "def heat_transfer_Q(k, A, d, deltaT):\n",
    "    return k * A * deltaT / d\n",
    "    \n",
    "def heat_capacity_T_final(delta_Q, t_i, c, m):\n",
    "    return t_i + (m * c * delta_q)"
   ]
  }
 ],
 "metadata": {
  "kernelspec": {
   "display_name": "Python 3",
   "language": "python",
   "name": "python3"
  },
  "language_info": {
   "codemirror_mode": {
    "name": "ipython",
    "version": 3
   },
   "file_extension": ".py",
   "mimetype": "text/x-python",
   "name": "python",
   "nbconvert_exporter": "python",
   "pygments_lexer": "ipython3",
   "version": "3.7.1"
  }
 },
 "nbformat": 4,
 "nbformat_minor": 2
}
