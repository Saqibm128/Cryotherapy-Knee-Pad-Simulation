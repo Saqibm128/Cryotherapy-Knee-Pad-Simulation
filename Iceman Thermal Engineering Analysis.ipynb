{
 "cells": [
  {
   "cell_type": "markdown",
   "metadata": {},
   "source": [
    "## Heat Transfer from Knee to Ice Water\n",
    "\n",
    "### Assumptions and declarations\n",
    "\n",
    "#### Declarations\n",
    "\n",
    "* $t$ is the time variable.\n",
    "* $T_{w0}$ is the initial temperature of the ice water.\n",
    "* $T_{sleeve}$ is the temperature of the plastic sleeve and starts at $25 C$\n",
    "* $T_w$ as the temperature of water flowing throughout the device.\n",
    "\n",
    "#### Assumptions\n",
    "* We assume the water has initial temperature of $0 C$\n",
    "* We assume that blood has same thermodynamic constants as water.\n",
    "* We assume tissue of knee above blood is primarily skin layers and has same properties as skin.\n",
    "* We assume that the fresh blood perfusing the tissue underneath the skin is constant at temperature $37 C$ and the skin starts at same temperature.\n",
    "* We assume that the surface area of the capillary bed is the same as the surface area of the knee as a whole (i.e. that fresh blood is constantly being in contact with the tissue.)\n",
    "* We assume that heat transfer from the knee skin to the environment is negligible.\n",
    "* We assume that the motor contributes negligible energy based on experiments run during a 20 minute period (the plastic casing prevent heat transfer from circuitry and the stirring of water will only contribute negligible amounts of energy).\n",
    "* We assume that the sleeve material will start at the same temperature as the ice water.\n",
    "* We assume that all individual items considered heat/cool at the same rate throughout the substance (i.e. one side of the sleeve pad is the same temperature as the other side of the sleeve pad).\n",
    "\n",
    "\n",
    "\n"
   ]
  },
  {
   "cell_type": "markdown",
   "metadata": {},
   "source": [
    "## Known Values\n",
    "* The device sleeve is a low density polyethylene with thermal coefficient of $0.33 j/(m * K * s)$ at $25 C$\n",
    "* The skin has a thermal conductivity of $0.31 j/(m * K *s)$\n",
    "* The water has a thermal conductivity of $0.608 j / (m * k * s)$\n",
    "* The sleeve of the device is of size $0.079 m^2$ ($10.85\" x 11.34\"$)\n",
    "\n"
   ]
  },
  {
   "cell_type": "markdown",
   "metadata": {},
   "source": [
    "## Key values to figure out\n",
    "\n",
    "* We don't need to find out how much water is in the sleeve because we assume it is constant temp throughout.\n",
    "* We don't know the mass of the plastic interface. Note, this needs to be divided in half, since this is double sided plastic sleeve\n",
    "* We need to figure out how thick the sleeve plastic is between the skin and the sleeve. I'm using the filler variable of .5 mm.\n",
    "* I am going to use a generic figure for skin depth (2 mm), but I'm not sure that applies to knee skin (https://www.cyh.com/HealthTopics/library/skin.pdf)"
   ]
  },
  {
   "cell_type": "markdown",
   "metadata": {},
   "source": [
    "## Derivation of the Heat Transfer Equation from Water Through Plastic Sleeve\n",
    "\n",
    "### Rate of thermal heat transfer:\n",
    "\n",
    "$\\\\\\dot Q = k * A * \\Delta T / d$\n",
    "\n",
    "$\\\\\\dot Q = k * 0.079 m^2 * (T_w - T_{sleeve})$\n",
    "\n",
    "### Heat Capacity of Plastic Sleeve:\n",
    "$\\\\ \\Delta Q = m c \\Delta T$\n",
    "\n",
    "$\\\\ \\Delta Q = m c \\Delta T$\n",
    "\n",
    "$\\\\ \\Delta Q = m c (T_f - T_i)$\n",
    "\n",
    "$\\\\ \\Delta Q + m c (T_i) =   m c T_f$\n",
    "\n",
    "$\\\\ \\Delta Q + m c (T_i) / (m c) = T_f$\n",
    "\n",
    "$\\\\ \\Delta Q = m 0.44 (T_{sleeve}(t_f) - T_{sleeve}(t_i))$\n",
    "\n",
    "### Change in temp of plastic sleeve as function of time, assuming that $\\dot Q$ is constant at instance\n",
    "Assumption holds for small time periods when the T_{sleeve} has only changed slightly over time\n",
    "\n",
    "$\\\\\\dot Q \\approx  \\Delta Q / 1 sec $\n",
    "\n",
    "\n",
    "$k * 0.079 * (T_w (t) - T_{sleeve}(t_i)) = m 0.44 (T_{sleeve}(t_f) - T_{sleeve}(t_i))$\n",
    "\n",
    "Let's start with the maximum change in Q over time, which would be when the water is at temperature $0 C$ and the sleeve is at temperature $25 C$\n",
    "$k * 0.079 * (0 - 25) = m 0.44 (T_{sleeve}(t_f) - y))$\n"
   ]
  },
  {
   "cell_type": "code",
   "execution_count": 2,
   "metadata": {},
   "outputs": [],
   "source": [
    "# set up dependencies\n",
    "import sys\n",
    "sys.path.append(\"/home/saqibm128/miniconda3/envs/py37/lib/python3.7/site-packages\")\n",
    "import pandas as pd\n",
    "import matplotlib.pyplot as plt"
   ]
  },
  {
   "cell_type": "code",
   "execution_count": 135,
   "metadata": {},
   "outputs": [],
   "source": [
    "# define constants (we can change later if we were wrong)\n",
    "K_ldpe = 0.33\n",
    "A_sleeve = 0.079\n",
    "d_sleeve = 0.003 / 2 # 3 mm\n",
    "T_wi = 273 #Kelvin\n",
    "T_sleevei = 298 #Kelvin\n",
    "c_ldpe = 2100 #http://www.goodfellow.com/E/Polyethylene-Low-Density.html\n",
    "d_skin_tissue = 0.005 #meters, https://www.histology.leeds.ac.uk/skin/skin_layers.php, https://www.cyh.com/HealthTopics/library/skin.pdf, we assume that muscle tissue underneath is skin is at least 0.0025 m in thickness as well\n",
    "c_skin = 3.39 * 1000 #https://www.researchgate.net/publication/247609956_Specific_heat_capacities_of_human_and_animal_tissues\n",
    "k_skin = 4 #https://www.ncbi.nlm.nih.gov/pubmed/9195861\n",
    "T_body = 37 + 273 #kelvin\n",
    "d_sleeve = 0.0005 #meters\n",
    "m_sleeve = 0.010 # kg\n",
    "knee_area = 102/ (100**2) #https://onlinelibrary.wiley.com/doi/pdf/10.1002/mrm.10097, 102 cm^2 / (1 m^2)\n",
    "skin_density = 1.02 / 1000 * (100**3) #https://www.ncbi.nlm.nih.gov/pmc/articles/PMC3699319/, 1.02 gm /cm^3 , 1020 kg/m^3\n",
    "m_skin = skin_density * knee_area * d_skin"
   ]
  },
  {
   "cell_type": "code",
   "execution_count": 115,
   "metadata": {},
   "outputs": [],
   "source": [
    "# Create functions which implements the thermal heat transfer equations and heat capacity equations\n",
    "def heat_transfer_Q(k, A, d, deltaT):\n",
    "    return k * A * deltaT / d\n",
    "    \n",
    "def heat_capacity_T_final(delta_Q, T_i, c, m):\n",
    "    return ((m * c * T_i) + delta_Q) / (m * c)"
   ]
  },
  {
   "cell_type": "code",
   "execution_count": 111,
   "metadata": {},
   "outputs": [],
   "source": [
    "import pandas as pd\n",
    "from addict import Dict\n",
    "# Create a quick and dirty definition for defining thermal relationships between objects, ThermItem (ThermodynamicItem)\n",
    "class ThermItem(object):\n",
    "    def __init__(self, T_i, c, k, m, d, name=None, forceTemp = None):\n",
    "        '''\n",
    "        T_i is initial temperature\n",
    "        c is the specific heat capacity\n",
    "        k is the heat transfer coefficient\n",
    "        m is the total mass\n",
    "        d is the distance of the object\n",
    "        name is the name, in string\n",
    "        forceTemp is a hack to model constantly fresh blood at 37 degrees celsius\n",
    "        '''\n",
    "        self.name = name\n",
    "        self.t = 0 #current time unless if given in parameter\n",
    "        self.T = pd.Series(index=[0]) # a series object to hold temperature data over time\n",
    "        self.T[0] = T_i if forceTemp is None else forceTemp\n",
    "        self.deltaQ = Dict() #holds heat transfers over time\n",
    "        self.m = m\n",
    "        self.k = k\n",
    "        self.c = c\n",
    "        self.d = d\n",
    "        self.forceTemp = forceTemp\n",
    "        self.relationships = []\n",
    "        return None\n",
    "    \n",
    "    def getTemp(self, t=None):\n",
    "        if self.forceTemp is not None:\n",
    "            return self.forceTemp\n",
    "        else:\n",
    "            if t is None:\n",
    "                t = self.t\n",
    "            return self.T[t]\n",
    "    \n",
    "    def addRelationship(self, otherItem, a, directCall=True):\n",
    "        # area exposed between two substances is not the same for every relationship with a single item. i.e. water\n",
    "        #Connects two ThermodynamicItems (i.e. we will go ahead and change temp of one object with respect to another)\n",
    "        relation = Dict()\n",
    "        relation.item = otherItem\n",
    "        relation.area = a\n",
    "        self.relationships.append(relation)\n",
    "        \n",
    "        #we want to reflect that a relationship is two ways, but we only update if directCall is True to avoid infinite recursion\n",
    "        if directCall:\n",
    "            otherItem.addRelationship(self, a, False)\n",
    "        \n",
    "    def updateTemp(self, delta_t, t_curr = None):\n",
    "        '''\n",
    "        delta_t is change in time that we wish to do this. smaller delta_t is more accurate prediction but more computationally heavy\n",
    "        t_curr is current time and is default the time of all objects\n",
    "        '''\n",
    "        if t_curr is None:\n",
    "            t_curr = self.t\n",
    "        if t_curr + delta_t in self.T:\n",
    "             return # we already updated for this, prevents infinite recursion \n",
    "        \n",
    "        \n",
    "        self.T[t_curr + delta_t] = self.getTemp()\n",
    "        #first we calculate the heat given from each item\n",
    "        for relation in self.relationships:\n",
    "            contributedChangeInQ = heat_transfer_Q(self.k, relation.area, self.d, relation.item.getTemp() - self.getTemp()) * delta_t #per second\n",
    "            self.deltaQ[relation.item.name][t_curr] = contributedChangeInQ#can be overriden with a different value if deltaT is not same on each invocation!\n",
    "            \n",
    "            if self.forceTemp is None: #don't try to update self.T if this is set\n",
    "                #iteratively update temp for each item!\n",
    "                self.T[t_curr + delta_t] = heat_capacity_T_final(contributedChangeInQ, self.T[t_curr + delta_t], self.c, self.m)\n",
    "            relation.item.updateTemp(delta_t) #go ahead and propagate update to other items as well!\n",
    "        for relation in self.relationships:\n",
    "            relation.item.t = t_curr + delta_t #update time by t\n",
    "        self.t = t_curr + delta_t\n",
    "\n",
    "        pass\n",
    "        "
   ]
  },
  {
   "cell_type": "code",
   "execution_count": 134,
   "metadata": {},
   "outputs": [
    {
     "data": {
      "image/png": "[encoded data removed]",
      "text/plain": [
       "<Figure size 432x288 with 1 Axes>"
      ]
     },
     "metadata": {
      "needs_background": "light"
     },
     "output_type": "display_data"
    }
   ],
   "source": [
    "kneeBlood = ThermItem(1, 1, 1, 1, 1, name=\"kneeBlood\", forceTemp=T_body) #coefficients don't matter since this has forceTemp\n",
    "kneeSkinTissue = ThermItem(name=\"kneeSkinTissue\", d = d_skin, m = m_skin, c = c_skin, k=k_skin, T_i=T_body)\n",
    "sleeve = ThermItem(name=\"knee pad\", d = d_sleeve, m = 0)\n",
    "\n",
    "kneeSkinTissue.addRelationship(kneeBlood, knee_area)\n",
    "\n",
    "for i in range(1000):\n",
    "    kneeBlood.updateTemp(0.1)\n",
    "\n",
    "plt.plot(kneeSkinTissue.T)\n",
    "plt.show()\n"
   ]
  },
  {
   "cell_type": "code",
   "execution_count": 62,
   "metadata": {},
   "outputs": [
    {
     "data": {
      "text/plain": [
       "True"
      ]
     },
     "execution_count": 62,
     "metadata": {},
     "output_type": "execute_result"
    }
   ],
   "source": [
    "0 + 0.1 in kneeBlood.T"
   ]
  }
 ],
 "metadata": {
  "kernelspec": {
   "display_name": "Python 3",
   "language": "python",
   "name": "python3"
  },
  "language_info": {
   "codemirror_mode": {
    "name": "ipython",
    "version": 3
   },
   "file_extension": ".py",
   "mimetype": "text/x-python",
   "name": "python",
   "nbconvert_exporter": "python",
   "pygments_lexer": "ipython3",
   "version": "3.7.1"
  }
 },
 "nbformat": 4,
 "nbformat_minor": 2
}
