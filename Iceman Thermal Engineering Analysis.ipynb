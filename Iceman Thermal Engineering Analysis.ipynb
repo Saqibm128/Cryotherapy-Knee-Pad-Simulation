{
 "cells": [
  {
   "cell_type": "markdown",
   "metadata": {},
   "source": [
    "## Heat Transfer from Knee to Ice Water\n",
    "\n",
    "### Assumptions and declarations\n",
    "\n",
    "* $t$ is the time variable.\n",
    "* $T_{w0}$ is the initial temperature of the ice water.\n",
    "* $T_{sleeve}$ is the temperature of the plastic sleeve and starts at $25 C$\n",
    "* $T_w$ as the temperature of water flowing throughout the device.\n",
    "* The device sleeve is a low density polyethylene with thermal coefficient of $0.33 j/(m * K * s)$ at $25 C$\n",
    "* The skin has a thermal conductivity of $0.31 j/(m * K *s)$\n",
    "* The water has a thermal conductivity of $0.608 j / (m * k * s)$\n",
    "* We assume the water has initial temperature of $0 C$\n",
    "* We assume that the fresh blood perfusing the tissue underneath the skin is constant at temperature $37 C$ and the skin starts at same temperature.\n",
    "* We assume that the surface area of the capillary bed is the same as the surface area of the knee as a whole (i.e. that fresh blood is constantly being in contact with the tissue.\n",
    "* We assume that heat transfer from the knee skin to the environment is negligible.\n",
    "* The sleeve of the device is of size $0.079 m^2$ ($10.85\" x 11.34\"$)"
   ]
  },
  {
   "cell_type": "markdown",
   "metadata": {},
   "source": [
    "## Key values to figure out\n",
    "\n",
    "* We don't need to find out how much water is in the sleeve because we assume it is constant temp throughout.\n",
    "* We need to figure out how thick the sleeve plastic is between the skin and the sleeve. I'm using the filler variable of .5 mm.\n",
    "* I am going to use a generic figure for skin depth (2 mm), but I'm not sure that applies to knee skin (https://www.cyh.com/HealthTopics/library/skin.pdf)"
   ]
  },
  {
   "cell_type": "markdown",
   "metadata": {},
   "source": [
    "## Derivation of the Heat Transfer Equation from Water Through Plastic Sleeve\n",
    "\n",
    "### Rate of thermal heat transfer:\n",
    "\n",
    "$\\\\\\dot Q = k * A * \\Delta T / d$\n",
    "\n",
    "$\\\\\\dot Q = k * 0.079 m^2 * (T_w - T_{sleeve})$\n",
    "\n",
    "### Heat Capacity of Plastic Sleeve:\n",
    "$\\\\ Q = m c \\Delta T$\n"
   ]
  },
  {
   "cell_type": "code",
   "execution_count": 4,
   "metadata": {},
   "outputs": [
    {
     "ename": "ModuleNotFoundError",
     "evalue": "No module named 'matplotlib'",
     "output_type": "error",
     "traceback": [
      "\u001b[0;31m---------------------------------------------------------------------------\u001b[0m",
      "\u001b[0;31mModuleNotFoundError\u001b[0m                       Traceback (most recent call last)",
      "\u001b[0;32m<ipython-input-4-b207cd0fe44d>\u001b[0m in \u001b[0;36m<module>\u001b[0;34m\u001b[0m\n\u001b[1;32m      1\u001b[0m \u001b[0;31m# set up dependencies\u001b[0m\u001b[0;34m\u001b[0m\u001b[0;34m\u001b[0m\u001b[0;34m\u001b[0m\u001b[0m\n\u001b[0;32m----> 2\u001b[0;31m \u001b[0;32mimport\u001b[0m \u001b[0mmatplotlib\u001b[0m\u001b[0;34m.\u001b[0m\u001b[0mpyplot\u001b[0m \u001b[0;32mas\u001b[0m \u001b[0mplt\u001b[0m\u001b[0;34m\u001b[0m\u001b[0;34m\u001b[0m\u001b[0m\n\u001b[0m",
      "\u001b[0;31mModuleNotFoundError\u001b[0m: No module named 'matplotlib'"
     ]
    }
   ],
   "source": [
    "# set up dependencies\n",
    "import matplotlib.pyplot as plt"
   ]
  },
  {
   "cell_type": "code",
   "execution_count": 3,
   "metadata": {},
   "outputs": [],
   "source": [
    "K_ldpe = 0.33\n",
    "A_sleeve = 0.079\n",
    "T_wi = 273 #Kelvin\n",
    "T_sleevei = 298 #Kelvin\n",
    "c_ldpe = 2100 #http://www.goodfellow.com/E/Polyethylene-Low-Density.html"
   ]
  },
  {
   "cell_type": "code",
   "execution_count": null,
   "metadata": {},
   "outputs": [],
   "source": [
    "def Q()"
   ]
  }
 ],
 "metadata": {
  "kernelspec": {
   "display_name": "Python 3",
   "language": "python",
   "name": "python3"
  },
  "language_info": {
   "codemirror_mode": {
    "name": "ipython",
    "version": 3
   },
   "file_extension": ".py",
   "mimetype": "text/x-python",
   "name": "python",
   "nbconvert_exporter": "python",
   "pygments_lexer": "ipython3",
   "version": "3.7.1"
  }
 },
 "nbformat": 4,
 "nbformat_minor": 2
}
